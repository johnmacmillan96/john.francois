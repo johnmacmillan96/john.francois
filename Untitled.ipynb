{
 "cells": [
  {
   "cell_type": "code",
   "execution_count": 4,
   "metadata": {
    "collapsed": false
   },
   "outputs": [
    {
     "ename": "ERROR",
     "evalue": "Error in parse(text = x, srcfile = src): <text>:36:66: unexpected input\n35:       # Dress it up a little just for fun\n36:       plot(-5, xlim = c(1,150), ylim = c(0, .3), axes = F, main = <e2>\n                                                                     ^\n",
     "output_type": "error",
     "traceback": [
      "Error in parse(text = x, srcfile = src): <text>:36:66: unexpected input\n35:       # Dress it up a little just for fun\n36:       plot(-5, xlim = c(1,150), ylim = c(0, .3), axes = F, main = <e2>\n                                                                     ^\nTraceback:\n"
     ]
    }
   ],
   "source": [
    "###################################\n",
    "library(animation)\n",
    "\n",
    "#Set delay between frames when replaying\n",
    "ani.options(interval=.05)\n",
    "\n",
    "# Set up a vector of colors for use below \n",
    "col.range <- heat.colors(15)\n",
    "\n",
    "# Begin animation loop\n",
    "# Note the brackets within the parentheses\n",
    "saveGIF({\n",
    "  \n",
    "  # For the most part, it’s safest to start with graphical settings in \n",
    "  # the animation loop, as the loop adds a layer of complexity to \n",
    "  # manipulating the graphs. For example, the layout specification needs to \n",
    "  # be within animation loop to work properly.\n",
    "  layout(matrix(c(1, rep(2, 5)), 6, 1))\n",
    "  \n",
    "  # Adjust the margins a little\n",
    "  par(mar=c(4,4,2,1) + 0.1)\n",
    "  \n",
    "    # Begin the loop that creates the 150 individual graphs\n",
    "    for (i in 1:150) {\n",
    "      \n",
    "      # Pull 100 observations from a normal distribution\n",
    "      # and add a constant based on the iteration to move the distribution\n",
    "      chunk <- rnorm(100)+sqrt(abs((i)-51))\n",
    "      \n",
    "      # Reset the color of the top chart every time (so that it doesn’t change as the \n",
    "      # bottom chart changes)\n",
    "      par(fg=1)\n",
    "      \n",
    "      # Set up the top chart that keeps track of the current frame/iteration\n",
    "      # Dress it up a little just for fun\n",
    "      plot(-5, xlim = c(1,150), ylim = c(0, .3), axes = F, main = “Iteration”)\n",
    "      abline(v=i, lwd=5, col = rgb(0, 0, 255, 255, maxColorValue=255))\n",
    "      abline(v=i-1, lwd=5, col = rgb(0, 0, 255, 50, maxColorValue=255))\n",
    "      abline(v=i-2, lwd=5, col = rgb(0, 0, 255, 25, maxColorValue=255))\n",
    "      \n",
    "      # Bring back the X axis\n",
    "      axis(1)\n",
    "      \n",
    "      # Set the color of the bottom chart based on the distance of the distribution’s mean from 0\n",
    "      par(fg = col.range[mean(chunk)+3])\n",
    "      \n",
    "      # Set up the bottom chart\n",
    "      plot(density(chunk), main = “”, xlab = “X Value”, xlim = c(-5, 15), ylim = c(0, .6))\n",
    "\n",
    "      # Add a line that indicates the mean of the distribution. Add additional lines to track\n",
    "      # previous means\n",
    "      abline(v=mean(chunk), col = rgb(255, 0, 0, 255, maxColorValue=255))\n",
    "      if (exists(“lastmean”)) {abline(v=lastmean, col = rgb(255, 0, 0, 50, maxColorValue=255)); prevlastmean <- lastmean;}\n",
    "      if (exists(“prevlastmean”)) {abline(v=prevlastmean, col = rgb(255, 0, 0, 25, maxColorValue=255))}\n",
    "      #Fix last mean calculation\n",
    "      lastmean <- mean(chunk)\n",
    "    }\n",
    "})"
   ]
  }
 ],
 "metadata": {
  "kernelspec": {
   "display_name": "R",
   "language": "R",
   "name": "ir"
  },
  "language_info": {
   "codemirror_mode": "r",
   "file_extension": ".r",
   "mimetype": "text/x-r-source",
   "name": "R",
   "pygments_lexer": "r",
   "version": "3.3.1"
  }
 },
 "nbformat": 4,
 "nbformat_minor": 1
}
